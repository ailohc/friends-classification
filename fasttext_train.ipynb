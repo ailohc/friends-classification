{
 "cells": [
  {
   "cell_type": "code",
   "execution_count": 1,
   "metadata": {},
   "outputs": [],
   "source": [
    "import os\n",
    "import pandas as pd\n",
    "import fasttext"
   ]
  },
  {
   "cell_type": "code",
   "execution_count": 2,
   "metadata": {},
   "outputs": [],
   "source": [
    "DEFAULT_PATH='./data/'\n",
    "TRAIN_PATH = os.path.join(DEFAULT_PATH, 'cleaned_friends_train.txt')\n",
    "TEST_PATH = os.path.join(DEFAULT_PATH, 'cleaned_friends_test.txt')"
   ]
  },
  {
   "cell_type": "code",
   "execution_count": 20,
   "metadata": {},
   "outputs": [],
   "source": [
    "model = fasttext.train_supervised(TRAIN_PATH, epoch=100, wordNgrams=3, loss='ova')\n",
    "model.save_model(\"fasttext_friends.bin\")"
   ]
  },
  {
   "cell_type": "code",
   "execution_count": 21,
   "metadata": {},
   "outputs": [],
   "source": [
    "total_count = 0\n",
    "right_count = 0\n",
    "\n",
    "test = open(TEST_PATH, 'r')\n",
    "lines = test.readlines()\n",
    "for line in lines:\n",
    "    orig_label = line.strip().split(\" \")[0]\n",
    "    orig_utterance = line.strip().split(' ', 1)[1]\n",
    "    if type(orig_utterance) == str:\n",
    "        predicted_label = model.predict(orig_utterance)[0][0]\n",
    "        total_count+=1\n",
    "        if predicted_label == orig_label:\n",
    "            right_count+=1\n",
    "    else:\n",
    "        pass"
   ]
  },
  {
   "cell_type": "code",
   "execution_count": 22,
   "metadata": {},
   "outputs": [
    {
     "data": {
      "text/plain": [
       "0.5332850940665702"
      ]
     },
     "execution_count": 22,
     "metadata": {},
     "output_type": "execute_result"
    }
   ],
   "source": [
    "float(right_count) / float(total_count)"
   ]
  },
  {
   "cell_type": "code",
   "execution_count": null,
   "metadata": {},
   "outputs": [],
   "source": []
  }
 ],
 "metadata": {
  "kernelspec": {
   "display_name": "Python 3",
   "language": "python",
   "name": "python3"
  },
  "language_info": {
   "codemirror_mode": {
    "name": "ipython",
    "version": 3
   },
   "file_extension": ".py",
   "mimetype": "text/x-python",
   "name": "python",
   "nbconvert_exporter": "python",
   "pygments_lexer": "ipython3",
   "version": "3.7.7"
  }
 },
 "nbformat": 4,
 "nbformat_minor": 4
}
